{
  "nbformat": 4,
  "nbformat_minor": 0,
  "metadata": {
    "colab": {
      "provenance": []
    },
    "kernelspec": {
      "name": "python3",
      "display_name": "Python 3"
    },
    "language_info": {
      "name": "python"
    }
  },
  "cells": [
    {
      "cell_type": "code",
      "source": [
        "import imutils\n",
        "import cv2\n",
        "from matplotlib import pyplot as plt"
      ],
      "metadata": {
        "id": "R8H_xEq9T6eb"
      },
      "execution_count": 2,
      "outputs": []
    },
    {
      "cell_type": "code",
      "source": [
        "pip install keras --upgrade"
      ],
      "metadata": {
        "colab": {
          "base_uri": "https://localhost:8080/"
        },
        "id": "gRJwtI9XfV0j",
        "outputId": "46ed5499-b634-44fa-971b-d9ecf1f17163"
      },
      "execution_count": 3,
      "outputs": [
        {
          "output_type": "stream",
          "name": "stdout",
          "text": [
            "Looking in indexes: https://pypi.org/simple, https://us-python.pkg.dev/colab-wheels/public/simple/\n",
            "Requirement already satisfied: keras in /usr/local/lib/python3.9/dist-packages (2.12.0)\n"
          ]
        }
      ]
    },
    {
      "cell_type": "code",
      "source": [
        "pip install tensorflow --upgrade"
      ],
      "metadata": {
        "colab": {
          "base_uri": "https://localhost:8080/"
        },
        "id": "T4UjmkJ9fa0e",
        "outputId": "47492948-8c9d-4e07-a07a-384cfaa9b341"
      },
      "execution_count": 4,
      "outputs": [
        {
          "output_type": "stream",
          "name": "stdout",
          "text": [
            "Looking in indexes: https://pypi.org/simple, https://us-python.pkg.dev/colab-wheels/public/simple/\n",
            "Requirement already satisfied: tensorflow in /usr/local/lib/python3.9/dist-packages (2.12.0)\n",
            "Requirement already satisfied: termcolor>=1.1.0 in /usr/local/lib/python3.9/dist-packages (from tensorflow) (2.2.0)\n",
            "Requirement already satisfied: libclang>=13.0.0 in /usr/local/lib/python3.9/dist-packages (from tensorflow) (16.0.0)\n",
            "Requirement already satisfied: absl-py>=1.0.0 in /usr/local/lib/python3.9/dist-packages (from tensorflow) (1.4.0)\n",
            "Requirement already satisfied: jax>=0.3.15 in /usr/local/lib/python3.9/dist-packages (from tensorflow) (0.4.8)\n",
            "Requirement already satisfied: tensorflow-io-gcs-filesystem>=0.23.1 in /usr/local/lib/python3.9/dist-packages (from tensorflow) (0.32.0)\n",
            "Requirement already satisfied: h5py>=2.9.0 in /usr/local/lib/python3.9/dist-packages (from tensorflow) (3.8.0)\n",
            "Requirement already satisfied: tensorflow-estimator<2.13,>=2.12.0 in /usr/local/lib/python3.9/dist-packages (from tensorflow) (2.12.0)\n",
            "Requirement already satisfied: astunparse>=1.6.0 in /usr/local/lib/python3.9/dist-packages (from tensorflow) (1.6.3)\n",
            "Requirement already satisfied: numpy<1.24,>=1.22 in /usr/local/lib/python3.9/dist-packages (from tensorflow) (1.22.4)\n",
            "Requirement already satisfied: tensorboard<2.13,>=2.12 in /usr/local/lib/python3.9/dist-packages (from tensorflow) (2.12.1)\n",
            "Requirement already satisfied: grpcio<2.0,>=1.24.3 in /usr/local/lib/python3.9/dist-packages (from tensorflow) (1.53.0)\n",
            "Requirement already satisfied: packaging in /usr/local/lib/python3.9/dist-packages (from tensorflow) (23.0)\n",
            "Requirement already satisfied: protobuf!=4.21.0,!=4.21.1,!=4.21.2,!=4.21.3,!=4.21.4,!=4.21.5,<5.0.0dev,>=3.20.3 in /usr/local/lib/python3.9/dist-packages (from tensorflow) (3.20.3)\n",
            "Requirement already satisfied: opt-einsum>=2.3.2 in /usr/local/lib/python3.9/dist-packages (from tensorflow) (3.3.0)\n",
            "Requirement already satisfied: gast<=0.4.0,>=0.2.1 in /usr/local/lib/python3.9/dist-packages (from tensorflow) (0.4.0)\n",
            "Requirement already satisfied: keras<2.13,>=2.12.0 in /usr/local/lib/python3.9/dist-packages (from tensorflow) (2.12.0)\n",
            "Requirement already satisfied: google-pasta>=0.1.1 in /usr/local/lib/python3.9/dist-packages (from tensorflow) (0.2.0)\n",
            "Requirement already satisfied: wrapt<1.15,>=1.11.0 in /usr/local/lib/python3.9/dist-packages (from tensorflow) (1.14.1)\n",
            "Requirement already satisfied: six>=1.12.0 in /usr/local/lib/python3.9/dist-packages (from tensorflow) (1.16.0)\n",
            "Requirement already satisfied: flatbuffers>=2.0 in /usr/local/lib/python3.9/dist-packages (from tensorflow) (23.3.3)\n",
            "Requirement already satisfied: typing-extensions>=3.6.6 in /usr/local/lib/python3.9/dist-packages (from tensorflow) (4.5.0)\n",
            "Requirement already satisfied: setuptools in /usr/local/lib/python3.9/dist-packages (from tensorflow) (67.6.1)\n",
            "Requirement already satisfied: wheel<1.0,>=0.23.0 in /usr/local/lib/python3.9/dist-packages (from astunparse>=1.6.0->tensorflow) (0.40.0)\n",
            "Requirement already satisfied: ml-dtypes>=0.0.3 in /usr/local/lib/python3.9/dist-packages (from jax>=0.3.15->tensorflow) (0.0.4)\n",
            "Requirement already satisfied: scipy>=1.7 in /usr/local/lib/python3.9/dist-packages (from jax>=0.3.15->tensorflow) (1.10.1)\n",
            "Requirement already satisfied: tensorboard-plugin-wit>=1.6.0 in /usr/local/lib/python3.9/dist-packages (from tensorboard<2.13,>=2.12->tensorflow) (1.8.1)\n",
            "Requirement already satisfied: werkzeug>=1.0.1 in /usr/local/lib/python3.9/dist-packages (from tensorboard<2.13,>=2.12->tensorflow) (2.2.3)\n",
            "Requirement already satisfied: markdown>=2.6.8 in /usr/local/lib/python3.9/dist-packages (from tensorboard<2.13,>=2.12->tensorflow) (3.4.3)\n",
            "Requirement already satisfied: requests<3,>=2.21.0 in /usr/local/lib/python3.9/dist-packages (from tensorboard<2.13,>=2.12->tensorflow) (2.27.1)\n",
            "Requirement already satisfied: google-auth-oauthlib<1.1,>=0.5 in /usr/local/lib/python3.9/dist-packages (from tensorboard<2.13,>=2.12->tensorflow) (1.0.0)\n",
            "Requirement already satisfied: tensorboard-data-server<0.8.0,>=0.7.0 in /usr/local/lib/python3.9/dist-packages (from tensorboard<2.13,>=2.12->tensorflow) (0.7.0)\n",
            "Requirement already satisfied: google-auth<3,>=1.6.3 in /usr/local/lib/python3.9/dist-packages (from tensorboard<2.13,>=2.12->tensorflow) (2.17.2)\n",
            "Requirement already satisfied: cachetools<6.0,>=2.0.0 in /usr/local/lib/python3.9/dist-packages (from google-auth<3,>=1.6.3->tensorboard<2.13,>=2.12->tensorflow) (5.3.0)\n",
            "Requirement already satisfied: pyasn1-modules>=0.2.1 in /usr/local/lib/python3.9/dist-packages (from google-auth<3,>=1.6.3->tensorboard<2.13,>=2.12->tensorflow) (0.2.8)\n",
            "Requirement already satisfied: rsa<5,>=3.1.4 in /usr/local/lib/python3.9/dist-packages (from google-auth<3,>=1.6.3->tensorboard<2.13,>=2.12->tensorflow) (4.9)\n",
            "Requirement already satisfied: requests-oauthlib>=0.7.0 in /usr/local/lib/python3.9/dist-packages (from google-auth-oauthlib<1.1,>=0.5->tensorboard<2.13,>=2.12->tensorflow) (1.3.1)\n",
            "Requirement already satisfied: importlib-metadata>=4.4 in /usr/local/lib/python3.9/dist-packages (from markdown>=2.6.8->tensorboard<2.13,>=2.12->tensorflow) (6.3.0)\n",
            "Requirement already satisfied: urllib3<1.27,>=1.21.1 in /usr/local/lib/python3.9/dist-packages (from requests<3,>=2.21.0->tensorboard<2.13,>=2.12->tensorflow) (1.26.15)\n",
            "Requirement already satisfied: certifi>=2017.4.17 in /usr/local/lib/python3.9/dist-packages (from requests<3,>=2.21.0->tensorboard<2.13,>=2.12->tensorflow) (2022.12.7)\n",
            "Requirement already satisfied: idna<4,>=2.5 in /usr/local/lib/python3.9/dist-packages (from requests<3,>=2.21.0->tensorboard<2.13,>=2.12->tensorflow) (3.4)\n",
            "Requirement already satisfied: charset-normalizer~=2.0.0 in /usr/local/lib/python3.9/dist-packages (from requests<3,>=2.21.0->tensorboard<2.13,>=2.12->tensorflow) (2.0.12)\n",
            "Requirement already satisfied: MarkupSafe>=2.1.1 in /usr/local/lib/python3.9/dist-packages (from werkzeug>=1.0.1->tensorboard<2.13,>=2.12->tensorflow) (2.1.2)\n",
            "Requirement already satisfied: zipp>=0.5 in /usr/local/lib/python3.9/dist-packages (from importlib-metadata>=4.4->markdown>=2.6.8->tensorboard<2.13,>=2.12->tensorflow) (3.15.0)\n",
            "Requirement already satisfied: pyasn1<0.5.0,>=0.4.6 in /usr/local/lib/python3.9/dist-packages (from pyasn1-modules>=0.2.1->google-auth<3,>=1.6.3->tensorboard<2.13,>=2.12->tensorflow) (0.4.8)\n",
            "Requirement already satisfied: oauthlib>=3.0.0 in /usr/local/lib/python3.9/dist-packages (from requests-oauthlib>=0.7.0->google-auth-oauthlib<1.1,>=0.5->tensorboard<2.13,>=2.12->tensorflow) (3.2.2)\n"
          ]
        }
      ]
    },
    {
      "cell_type": "code",
      "source": [
        "pip install keras-applications"
      ],
      "metadata": {
        "colab": {
          "base_uri": "https://localhost:8080/"
        },
        "id": "W53HMDf5fePY",
        "outputId": "2eb3a58a-f43a-4dda-c063-09b92f9106a6"
      },
      "execution_count": 5,
      "outputs": [
        {
          "output_type": "stream",
          "name": "stdout",
          "text": [
            "Looking in indexes: https://pypi.org/simple, https://us-python.pkg.dev/colab-wheels/public/simple/\n",
            "Requirement already satisfied: keras-applications in /usr/local/lib/python3.9/dist-packages (1.0.8)\n",
            "Requirement already satisfied: numpy>=1.9.1 in /usr/local/lib/python3.9/dist-packages (from keras-applications) (1.22.4)\n",
            "Requirement already satisfied: h5py in /usr/local/lib/python3.9/dist-packages (from keras-applications) (3.8.0)\n"
          ]
        }
      ]
    },
    {
      "cell_type": "code",
      "source": [
        "pip install --upgrade keras-applications"
      ],
      "metadata": {
        "colab": {
          "base_uri": "https://localhost:8080/"
        },
        "id": "qTLkQPAHfihG",
        "outputId": "3ff9c5e6-0f25-4297-fbb6-cd06ba7cd1ad"
      },
      "execution_count": 6,
      "outputs": [
        {
          "output_type": "stream",
          "name": "stdout",
          "text": [
            "Looking in indexes: https://pypi.org/simple, https://us-python.pkg.dev/colab-wheels/public/simple/\n",
            "Requirement already satisfied: keras-applications in /usr/local/lib/python3.9/dist-packages (1.0.8)\n",
            "Requirement already satisfied: h5py in /usr/local/lib/python3.9/dist-packages (from keras-applications) (3.8.0)\n",
            "Requirement already satisfied: numpy>=1.9.1 in /usr/local/lib/python3.9/dist-packages (from keras-applications) (1.22.4)\n"
          ]
        }
      ]
    },
    {
      "cell_type": "code",
      "execution_count": 7,
      "metadata": {
        "id": "gP8CtssrTrso"
      },
      "outputs": [],
      "source": [
        "# def crop_brain_contour(image, plot=False):\n",
        "    \n",
        "    \n",
        "    \n",
        "#     # Convert the image to grayscale, and blur it slightly\n",
        "#     gray = cv2.cvtColor(image, cv2.COLOR_BGR2GRAY)\n",
        "#     gray = cv2.GaussianBlur(gray, (5, 5), 0)\n",
        "\n",
        "#     # Threshold the image, then perform a series of erosions +\n",
        "#     # dilations to remove any small regions of noise\n",
        "#     thresh = cv2.threshold(gray, 45, 255, cv2.THRESH_BINARY)[1]\n",
        "#     thresh = cv2.erode(thresh, None, iterations=2)\n",
        "#     thresh = cv2.dilate(thresh, None, iterations=2)\n",
        "\n",
        "#     # Find contours in thresholded image, then grab the largest one\n",
        "#     cnts = cv2.findContours(thresh.copy(), cv2.RETR_EXTERNAL, cv2.CHAIN_APPROX_SIMPLE)\n",
        "#     cnts = imutils.grab_contours(cnts)\n",
        "#     c = max(cnts, key=cv2.contourArea)\n",
        "    \n",
        "\n",
        "#     # Find the extreme points\n",
        "#     extLeft = tuple(c[c[:, :, 0].argmin()][0])\n",
        "#     extRight = tuple(c[c[:, :, 0].argmax()][0])\n",
        "#     extTop = tuple(c[c[:, :, 1].argmin()][0])\n",
        "#     extBot = tuple(c[c[:, :, 1].argmax()][0])\n",
        "    \n",
        "#     # crop new image out of the original image using the four extreme points (left, right, top, bottom)\n",
        "#     new_image = image[extTop[1]:extBot[1], extLeft[0]:extRight[0]]            \n",
        "\n",
        "#     if plot:\n",
        "#         plt.figure()\n",
        "\n",
        "#         plt.subplot(1, 2, 1)\n",
        "#         plt.imshow(image)\n",
        "        \n",
        "#         plt.tick_params(axis='both', which='both', \n",
        "#                         top=False, bottom=False, left=False, right=False,\n",
        "#                         labelbottom=False, labeltop=False, labelleft=False, labelright=False)\n",
        "        \n",
        "#         plt.title('Original Image')\n",
        "            \n",
        "#         plt.subplot(1, 2, 2)\n",
        "#         plt.imshow(new_image)\n",
        "\n",
        "#         plt.tick_params(axis='both', which='both', \n",
        "#                         top=False, bottom=False, left=False, right=False,\n",
        "#                         labelbottom=False, labeltop=False, labelleft=False, labelright=False)\n",
        "\n",
        "#         plt.title('Cropped Image')\n",
        "        \n",
        "#         plt.show()\n",
        "    \n",
        "#     return new_image"
      ]
    },
    {
      "cell_type": "code",
      "source": [
        "from google.colab import drive\n",
        "drive.mount('/content/gdrive')"
      ],
      "metadata": {
        "colab": {
          "base_uri": "https://localhost:8080/"
        },
        "id": "b97s8G6IXe_I",
        "outputId": "0bb388db-2c30-447b-8a72-8597ffa98bb4"
      },
      "execution_count": 8,
      "outputs": [
        {
          "output_type": "stream",
          "name": "stdout",
          "text": [
            "Drive already mounted at /content/gdrive; to attempt to forcibly remount, call drive.mount(\"/content/gdrive\", force_remount=True).\n"
          ]
        }
      ]
    },
    {
      "cell_type": "code",
      "source": [
        "# from keras.preprocessing.image import ImageDataGenerator\n",
        "\n",
        "# train_datagen = ImageDataGenerator(rescale=1./255, \n",
        "#                                    shear_range=0.2, \n",
        "#                                    zoom_range=0.2, \n",
        "#                                    horizontal_flip=True)\n",
        "\n",
        "# test_datagen = ImageDataGenerator(rescale=1./255)\n",
        "\n",
        "# train_data = train_datagen.flow_from_directory('/content/gdrive/MyDrive/Breast scans/Train', \n",
        "#                                                 target_size=(224, 224), \n",
        "#                                                 batch_size=32, \n",
        "#                                                 class_mode='categorical')\n",
        "\n",
        "# # val_data = test_datagen.flow_from_directory('path/to/validation/directory', \n",
        "# #                                              target_size=(224, 224), \n",
        "# #                                              batch_size=32, \n",
        "# #                                              class_mode='categorical')\n",
        "\n",
        "# test_data = test_datagen.flow_from_directory('/content/gdrive/MyDrive/Breast scans/Test', \n",
        "#                                               target_size=(224, 224), \n",
        "#                                               batch_size=32, \n",
        "#                                               class_mode='categorical')\n"
      ],
      "metadata": {
        "id": "nWuQ_7mFT5pU"
      },
      "execution_count": 9,
      "outputs": []
    },
    {
      "cell_type": "code",
      "source": [
        "# import os\n",
        "# import numpy as np\n",
        "# from keras.preprocessing.image import ImageDataGenerator\n",
        "\n",
        "# # Define the path to the dataset directory\n",
        "# data_dir = '/content/gdrive/MyDrive/Breast scans'\n",
        "\n",
        "# # Define the dimensions of the resized images\n",
        "# img_width, img_height = 224, 224\n",
        "\n",
        "# # Define the number of images to be used for training\n",
        "# train_samples = 1000\n",
        "\n",
        "# # Define the batch size for training\n",
        "# batch_size = 32\n",
        "\n",
        "# # Define the data augmentation parameters\n",
        "# train_datagen = ImageDataGenerator(rescale=1./255, \n",
        "#                                    shear_range=0.2, \n",
        "#                                    zoom_range=0.2, \n",
        "#                                    horizontal_flip=True)\n",
        "\n",
        "# # Load the images and labels from the dataset directory\n",
        "# train_data = train_datagen.flow_from_directory(os.path.join(data_dir, 'Train'), \n",
        "#                                                target_size=(img_width, img_height), \n",
        "#                                                batch_size=batch_size, \n",
        "#                                                class_mode='categorical', \n",
        "#                                                shuffle=True)\n",
        "\n",
        "# # Extract the labels from the training data generator\n",
        "# train_labels = np.zeros(train_samples)\n",
        "# for i in range(train_samples // batch_size):\n",
        "#     _, batch_labels = next(train_data)\n",
        "#     train_labels[i*batch_size : (i+1)*batch_size] = np.argmax(batch_labels, axis=1)\n",
        "    \n",
        "# # Print the shape of the training data and labels\n",
        "# print('Train data shape:', train_data[0][0].shape)\n",
        "# print('Train labels shape:', train_labels.shape)\n"
      ],
      "metadata": {
        "id": "373qYwNTg7au"
      },
      "execution_count": 10,
      "outputs": []
    },
    {
      "cell_type": "code",
      "source": [
        "pip install keras\n"
      ],
      "metadata": {
        "colab": {
          "base_uri": "https://localhost:8080/"
        },
        "id": "yofj4KJvf481",
        "outputId": "e67afede-3590-4f9a-8816-ed3889a288b5"
      },
      "execution_count": 11,
      "outputs": [
        {
          "output_type": "stream",
          "name": "stdout",
          "text": [
            "Looking in indexes: https://pypi.org/simple, https://us-python.pkg.dev/colab-wheels/public/simple/\n",
            "Requirement already satisfied: keras in /usr/local/lib/python3.9/dist-packages (2.12.0)\n"
          ]
        }
      ]
    },
    {
      "cell_type": "code",
      "source": [
        "from tensorflow.keras.applications.resnet50 import ResNet50\n",
        "from keras.layers import Flatten\n",
        "from keras.layers import Dropout\n",
        "\n",
        "\n",
        "\n"
      ],
      "metadata": {
        "id": "x_aR0hzlfrxK"
      },
      "execution_count": 12,
      "outputs": []
    },
    {
      "cell_type": "code",
      "source": [
        "# # Load ResNet50\n",
        "# # from keras.applications.resnet50 import ResNet50\n",
        "# from keras.models import Model\n",
        "# from keras.layers import Dense\n",
        "\n",
        "# resnet = ResNet50(weights='imagenet', include_top=False, input_shape=(224, 224, 3))\n",
        "\n",
        "# # Freeze early layers\n",
        "# for layer in resnet.layers[:100]:\n",
        "#     layer.trainable = False\n",
        "\n",
        "# # Add classification layer\n",
        "# x = resnet.output\n",
        "# x = Flatten()(x)\n",
        "# x = Dense(128, activation='relu')(x)\n",
        "# x = Dropout(0.5)(x)\n",
        "# predictions = Dense(3, activation='softmax')(x)\n",
        "\n",
        "# model = Model(inputs=resnet.input, outputs=predictions)\n",
        "\n",
        "# # Train the model\n",
        "# model.compile(optimizer='adam', loss='categorical_crossentropy', metrics=['accuracy'])\n",
        "\n",
        "# model.fit(train_data, train_labels, epochs=10)\n",
        "\n",
        "# # Test the model\n",
        "# test_loss, test_acc = model.evaluate(test_data, test_labels)\n",
        "# print('Test accuracy:', test_acc)\n"
      ],
      "metadata": {
        "id": "o82FjSAtTxha"
      },
      "execution_count": 13,
      "outputs": []
    },
    {
      "cell_type": "code",
      "source": [],
      "metadata": {
        "id": "aTw2OnAAj5gp"
      },
      "execution_count": 13,
      "outputs": []
    },
    {
      "cell_type": "code",
      "source": [],
      "metadata": {
        "id": "oaet0Yl8j5Y1"
      },
      "execution_count": 13,
      "outputs": []
    },
    {
      "cell_type": "code",
      "source": [],
      "metadata": {
        "id": "FV4zkj0qj5Sy"
      },
      "execution_count": 13,
      "outputs": []
    },
    {
      "cell_type": "code",
      "source": [],
      "metadata": {
        "id": "oAfBz-DVj5J1"
      },
      "execution_count": 13,
      "outputs": []
    },
    {
      "cell_type": "code",
      "source": [
        "import numpy as np\n",
        "from tensorflow.keras.applications.resnet50 import ResNet50\n",
        "from keras.models import Model\n",
        "from keras.layers import Dense, Flatten, Dropout\n",
        "from keras.optimizers import Adam\n",
        "from keras.preprocessing.image import ImageDataGenerator\n",
        "\n",
        "# Define the dimensions of the resized images\n",
        "img_width, img_height = 224, 224\n",
        "\n",
        "# Define the batch size for training\n",
        "batch_size = 32\n",
        "\n",
        "# Define the paths to the train and test directories\n",
        "train_dir = '/content/gdrive/MyDrive/Breast scans/Train'\n",
        "test_dir = '/content/gdrive/MyDrive/Breast scans/Test'\n",
        "\n",
        "# Define the data augmentation parameters for training data\n",
        "train_datagen = ImageDataGenerator(rescale=1./255,\n",
        "                                   shear_range=0.2,\n",
        "                                   zoom_range=0.2,\n",
        "                                   horizontal_flip=True)\n",
        "\n",
        "# Define the data augmentation parameters for test data\n",
        "test_datagen = ImageDataGenerator(rescale=1./255)\n",
        "\n",
        "# Load the train data from the directory\n",
        "train_data = train_datagen.flow_from_directory(train_dir,\n",
        "                                               target_size=(img_width, img_height),\n",
        "                                               batch_size=batch_size,\n",
        "                                               class_mode='categorical',\n",
        "                                               shuffle=True)\n",
        "\n",
        "# Load the test data from the directory\n",
        "test_data = test_datagen.flow_from_directory(test_dir,\n",
        "                                              target_size=(img_width, img_height),\n",
        "                                              batch_size=batch_size,\n",
        "                                              class_mode='categorical',\n",
        "                                              shuffle=False)\n",
        "\n",
        "# Load the ResNet50 model\n",
        "resnet = ResNet50(weights='imagenet', include_top=False, input_shape=(img_width, img_height, 3))\n",
        "\n",
        "# Freeze early layers\n",
        "for layer in resnet.layers[:100]:\n",
        "    layer.trainable = False\n",
        "\n",
        "# Add classification layer\n",
        "x = resnet.output\n",
        "x = Flatten()(x)\n",
        "x = Dense(128, activation='relu')(x)\n",
        "x = Dropout(0.5)(x)\n",
        "predictions = Dense(3, activation='softmax')(x)\n",
        "\n",
        "model = Model(inputs=resnet.input, outputs=predictions)\n",
        "\n",
        "# Train the model\n",
        "model.compile(optimizer=Adam(lr=0.0001), loss='categorical_crossentropy', metrics=['accuracy'])\n",
        "\n",
        "model.fit(train_data, epochs=10)\n",
        "\n",
        "# Test the model\n",
        "test_loss, test_acc = model.evaluate(test_data)\n",
        "print('Test accuracy:', test_acc)\n"
      ],
      "metadata": {
        "colab": {
          "base_uri": "https://localhost:8080/"
        },
        "id": "ZOviry6sfFg0",
        "outputId": "899554f3-f8ea-4ac5-a4c5-622976705914"
      },
      "execution_count": 14,
      "outputs": [
        {
          "output_type": "stream",
          "name": "stdout",
          "text": [
            "Found 1274 images belonging to 3 classes.\n",
            "Found 170 images belonging to 3 classes.\n"
          ]
        },
        {
          "output_type": "stream",
          "name": "stderr",
          "text": [
            "/usr/local/lib/python3.9/dist-packages/keras/optimizers/legacy/adam.py:117: UserWarning: The `lr` argument is deprecated, use `learning_rate` instead.\n",
            "  super().__init__(name, **kwargs)\n"
          ]
        },
        {
          "output_type": "stream",
          "name": "stdout",
          "text": [
            "Epoch 1/10\n",
            "40/40 [==============================] - 514s 13s/step - loss: 1.2380 - accuracy: 0.6476\n",
            "Epoch 2/10\n",
            "40/40 [==============================] - 510s 13s/step - loss: 0.6865 - accuracy: 0.7261\n",
            "Epoch 3/10\n",
            "40/40 [==============================] - 506s 13s/step - loss: 0.6328 - accuracy: 0.7300\n",
            "Epoch 4/10\n",
            "40/40 [==============================] - 504s 13s/step - loss: 0.6778 - accuracy: 0.7402\n",
            "Epoch 5/10\n",
            "40/40 [==============================] - 505s 13s/step - loss: 0.5890 - accuracy: 0.7512\n",
            "Epoch 6/10\n",
            "40/40 [==============================] - 506s 13s/step - loss: 0.5894 - accuracy: 0.7645\n",
            "Epoch 7/10\n",
            "40/40 [==============================] - 505s 13s/step - loss: 0.5724 - accuracy: 0.7606\n",
            "Epoch 8/10\n",
            "40/40 [==============================] - 505s 13s/step - loss: 0.5382 - accuracy: 0.7598\n",
            "Epoch 9/10\n",
            "40/40 [==============================] - 508s 13s/step - loss: 0.5655 - accuracy: 0.7582\n",
            "Epoch 10/10\n",
            "40/40 [==============================] - 506s 13s/step - loss: 0.5358 - accuracy: 0.7606\n",
            "6/6 [==============================] - 50s 8s/step - loss: 1.3717 - accuracy: 0.6471\n",
            "Test accuracy: 0.6470588445663452\n"
          ]
        }
      ]
    },
    {
      "cell_type": "code",
      "source": [],
      "metadata": {
        "id": "sAkUkgSIj1uH"
      },
      "execution_count": null,
      "outputs": []
    }
  ]
}