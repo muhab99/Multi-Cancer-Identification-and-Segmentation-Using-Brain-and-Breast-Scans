{
  "nbformat": 4,
  "nbformat_minor": 0,
  "metadata": {
    "colab": {
      "provenance": []
    },
    "kernelspec": {
      "name": "python3",
      "display_name": "Python 3"
    },
    "language_info": {
      "name": "python"
    },
    "accelerator": "GPU",
    "gpuClass": "standard"
  },
  "cells": [
    {
      "cell_type": "code",
      "source": [
        "from google.colab import drive\n",
        "drive.mount('/content/gdrive')"
      ],
      "metadata": {
        "colab": {
          "base_uri": "https://localhost:8080/"
        },
        "id": "ZpGuj2BDaX0H",
        "outputId": "41d30efb-a2af-4761-8c7a-ef51d59ddefb"
      },
      "execution_count": 3,
      "outputs": [
        {
          "output_type": "stream",
          "name": "stdout",
          "text": [
            "Mounted at /content/gdrive\n"
          ]
        }
      ]
    },
    {
      "cell_type": "code",
      "execution_count": 2,
      "metadata": {
        "colab": {
          "base_uri": "https://localhost:8080/"
        },
        "id": "VrW5ap_zZZBC",
        "outputId": "065c09cd-14eb-47f7-f26c-b23b96fb1cd6"
      },
      "outputs": [
        {
          "output_type": "stream",
          "name": "stdout",
          "text": [
            "Found 1274 images belonging to 3 classes.\n",
            "Found 170 images belonging to 3 classes.\n",
            "Downloading data from https://storage.googleapis.com/tensorflow/keras-applications/vgg16/vgg16_weights_tf_dim_ordering_tf_kernels_notop.h5\n",
            "58889256/58889256 [==============================] - 2s 0us/step\n"
          ]
        },
        {
          "output_type": "stream",
          "name": "stderr",
          "text": [
            "WARNING:absl:`lr` is deprecated in Keras optimizer, please use `learning_rate` or use the legacy optimizer, e.g.,tf.keras.optimizers.legacy.Adam.\n",
            "<ipython-input-2-110eed0e2269>:68: UserWarning: `Model.fit_generator` is deprecated and will be removed in a future version. Please use `Model.fit`, which supports generators.\n",
            "  model.fit_generator(train_generator, epochs=10)\n"
          ]
        },
        {
          "output_type": "stream",
          "name": "stdout",
          "text": [
            "Epoch 1/10\n",
            "40/40 [==============================] - 463s 11s/step - loss: 1.5781 - accuracy: 0.6020\n",
            "Epoch 2/10\n",
            "40/40 [==============================] - 23s 582ms/step - loss: 0.6104 - accuracy: 0.7370\n",
            "Epoch 3/10\n",
            "40/40 [==============================] - 23s 576ms/step - loss: 0.5047 - accuracy: 0.7834\n",
            "Epoch 4/10\n",
            "40/40 [==============================] - 22s 546ms/step - loss: 0.4975 - accuracy: 0.7904\n",
            "Epoch 5/10\n",
            "40/40 [==============================] - 23s 577ms/step - loss: 0.4815 - accuracy: 0.8006\n",
            "Epoch 6/10\n",
            "40/40 [==============================] - 22s 553ms/step - loss: 0.4435 - accuracy: 0.8148\n",
            "Epoch 7/10\n",
            "40/40 [==============================] - 23s 573ms/step - loss: 0.4237 - accuracy: 0.8203\n",
            "Epoch 8/10\n",
            "40/40 [==============================] - 23s 567ms/step - loss: 0.4217 - accuracy: 0.8226\n",
            "Epoch 9/10\n",
            "40/40 [==============================] - 24s 588ms/step - loss: 0.4046 - accuracy: 0.8297\n",
            "Epoch 10/10\n",
            "40/40 [==============================] - 23s 566ms/step - loss: 0.3970 - accuracy: 0.8203\n"
          ]
        },
        {
          "output_type": "stream",
          "name": "stderr",
          "text": [
            "<ipython-input-2-110eed0e2269>:71: UserWarning: `Model.evaluate_generator` is deprecated and will be removed in a future version. Please use `Model.evaluate`, which supports generators.\n",
            "  test_loss, test_acc = model.evaluate_generator(test_generator)\n"
          ]
        },
        {
          "output_type": "stream",
          "name": "stdout",
          "text": [
            "Test accuracy: 0.699999988079071\n"
          ]
        }
      ],
      "source": [
        "# import numpy as np\n",
        "# import tensorflow as tf\n",
        "# from tensorflow.keras.applications.vgg16 import VGG16\n",
        "# from tensorflow.keras.preprocessing.image import ImageDataGenerator\n",
        "# from tensorflow.keras.layers import Dense, Dropout, Flatten\n",
        "# from tensorflow.keras.models import Model\n",
        "# from tensorflow.keras.optimizers import Adam\n",
        "\n",
        "# # Define the input size of the VGG16 model\n",
        "# input_size = (224, 224)\n",
        "\n",
        "# # Define the number of classes\n",
        "# num_classes = 3\n",
        "\n",
        "# # Define the batch size\n",
        "# batch_size = 32\n",
        "\n",
        "# # Define the path to the dataset directory\n",
        "# dataset_dir = \"/content/gdrive/MyDrive/Breast scans\"\n",
        "\n",
        "# # Define the path to the training set directory\n",
        "# train_dir = dataset_dir + \"/Train\"\n",
        "\n",
        "# # Define the path to the test set directory\n",
        "# test_dir = dataset_dir + \"/Test\"\n",
        "\n",
        "# # Define the data generators for training and test sets\n",
        "# train_datagen = ImageDataGenerator(\n",
        "#     rescale=1./255,\n",
        "#     shear_range=0.2,\n",
        "#     zoom_range=0.2,\n",
        "#     horizontal_flip=True)\n",
        "\n",
        "# test_datagen = ImageDataGenerator(rescale=1./255)\n",
        "\n",
        "# train_generator = train_datagen.flow_from_directory(\n",
        "#     train_dir,\n",
        "#     target_size=input_size,\n",
        "#     batch_size=batch_size,\n",
        "#     class_mode='categorical')\n",
        "\n",
        "# test_generator = test_datagen.flow_from_directory(\n",
        "#     test_dir,\n",
        "#     target_size=input_size,\n",
        "#     batch_size=batch_size,\n",
        "#     class_mode='categorical')\n",
        "\n",
        "# # Load the pre-trained VGG16 model\n",
        "# vgg16 = VGG16(weights='imagenet', include_top=False, input_shape=(input_size[0], input_size[1], 3))\n",
        "\n",
        "# # Freeze the layers of the VGG16 model\n",
        "# for layer in vgg16.layers:\n",
        "#     layer.trainable = False\n",
        "\n",
        "# # Add new layers for classification\n",
        "# x = Flatten()(vgg16.output)\n",
        "# x = Dense(256, activation='relu')(x)\n",
        "# x = Dropout(0.5)(x)\n",
        "# x = Dense(num_classes, activation='softmax')(x)\n",
        "\n",
        "# # Create the model\n",
        "# model = Model(inputs=vgg16.input, outputs=x)\n",
        "\n",
        "# # Compile the model\n",
        "# model.compile(optimizer=Adam(lr=0.001), loss='categorical_crossentropy', metrics=['accuracy'])\n",
        "\n",
        "# # Train the model\n",
        "# model.fit_generator(train_generator, epochs=10)\n",
        "\n",
        "# # Evaluate the model on the test set\n",
        "# test_loss, test_acc = model.evaluate_generator(test_generator)\n",
        "# print('Test accuracy:', test_acc)\n"
      ]
    },
    {
      "cell_type": "code",
      "source": [
        "import numpy as np\n",
        "import tensorflow as tf\n",
        "from tensorflow.keras.applications.vgg16 import VGG16\n",
        "from tensorflow.keras.preprocessing.image import ImageDataGenerator\n",
        "from tensorflow.keras.layers import Dense, Dropout, Flatten\n",
        "from tensorflow.keras.models import Model\n",
        "from tensorflow.keras.optimizers import Adam\n",
        "from sklearn.metrics import classification_report, confusion_matrix\n",
        "\n",
        "# Define the input size of the VGG16 model\n",
        "input_size = (224, 224)\n",
        "\n",
        "# Define the number of classes\n",
        "num_classes = 3\n",
        "\n",
        "# Define the batch size\n",
        "batch_size = 32\n",
        "\n",
        "# Define the path to the dataset directory\n",
        "dataset_dir = \"/content/gdrive/MyDrive/Breast scans\"\n",
        "\n",
        "# Define the path to the training set directory\n",
        "train_dir = dataset_dir + \"/Train\"\n",
        "\n",
        "# Define the path to the test set directory\n",
        "test_dir = dataset_dir + \"/Test\"\n",
        "\n",
        "# Define the data generators for training and test sets\n",
        "train_datagen = ImageDataGenerator(\n",
        "    rescale=1./255,\n",
        "    shear_range=0.2,\n",
        "    zoom_range=0.2,\n",
        "    horizontal_flip=True)\n",
        "\n",
        "test_datagen = ImageDataGenerator(rescale=1./255)\n",
        "\n",
        "train_generator = train_datagen.flow_from_directory(\n",
        "    train_dir,\n",
        "    target_size=input_size,\n",
        "    batch_size=batch_size,\n",
        "    class_mode='categorical')\n",
        "\n",
        "test_generator = test_datagen.flow_from_directory(\n",
        "    test_dir,\n",
        "    target_size=input_size,\n",
        "    batch_size=batch_size,\n",
        "    class_mode='categorical')\n",
        "\n",
        "# Load the pre-trained VGG16 model\n",
        "vgg16 = VGG16(weights='imagenet', include_top=False, input_shape=(input_size[0], input_size[1], 3))\n",
        "\n",
        "# Freeze the layers of the VGG16 model\n",
        "for layer in vgg16.layers:\n",
        "    layer.trainable = False\n",
        "\n",
        "# Add new layers for classification\n",
        "x = Flatten()(vgg16.output)\n",
        "x = Dense(256, activation='relu')(x)\n",
        "x = Dropout(0.5)(x)\n",
        "x = Dense(num_classes, activation='softmax')(x)\n",
        "\n",
        "# Create the model\n",
        "model = Model(inputs=vgg16.input, outputs=x)\n",
        "\n",
        "# Compile the model\n",
        "model.compile(optimizer=Adam(lr=0.001), loss='categorical_crossentropy', metrics=['accuracy'])\n",
        "\n",
        "# Train the model\n",
        "model.fit_generator(train_generator, epochs=10)\n",
        "\n",
        "# Predict the classes of the test set\n",
        "y_pred = np.argmax(model.predict(test_generator), axis=-1)\n",
        "\n",
        "# Get the true classes of the test set\n",
        "y_true = test_generator.classes\n",
        "\n",
        "# Get the class labels\n",
        "class_labels = list(test_generator.class_indices.keys())\n",
        "\n",
        "# Print the classification report\n",
        "print(classification_report(y_true, y_pred, target_names=class_labels))\n",
        "\n",
        "# Print the confusion matrix\n",
        "print(confusion_matrix(y_true, y_pred))\n",
        "\n",
        "test_loss, test_acc = model.evaluate_generator(test_generator)\n",
        "print('Test accuracy:', test_acc)\n"
      ],
      "metadata": {
        "colab": {
          "base_uri": "https://localhost:8080/"
        },
        "id": "hKQovbDdavNR",
        "outputId": "45bd582f-1687-4c1f-c5c3-cb1ed96d0b0a"
      },
      "execution_count": 4,
      "outputs": [
        {
          "output_type": "stream",
          "name": "stdout",
          "text": [
            "Found 1274 images belonging to 3 classes.\n",
            "Found 170 images belonging to 3 classes.\n",
            "Downloading data from https://storage.googleapis.com/tensorflow/keras-applications/vgg16/vgg16_weights_tf_dim_ordering_tf_kernels_notop.h5\n",
            "58889256/58889256 [==============================] - 2s 0us/step\n"
          ]
        },
        {
          "output_type": "stream",
          "name": "stderr",
          "text": [
            "WARNING:absl:`lr` is deprecated in Keras optimizer, please use `learning_rate` or use the legacy optimizer, e.g.,tf.keras.optimizers.legacy.Adam.\n",
            "<ipython-input-4-4999f49a5398>:69: UserWarning: `Model.fit_generator` is deprecated and will be removed in a future version. Please use `Model.fit`, which supports generators.\n",
            "  model.fit_generator(train_generator, epochs=10)\n"
          ]
        },
        {
          "output_type": "stream",
          "name": "stdout",
          "text": [
            "Epoch 1/10\n",
            "40/40 [==============================] - 480s 12s/step - loss: 1.2968 - accuracy: 0.6601\n",
            "Epoch 2/10\n",
            "40/40 [==============================] - 23s 569ms/step - loss: 0.5362 - accuracy: 0.7724\n",
            "Epoch 3/10\n",
            "40/40 [==============================] - 22s 545ms/step - loss: 0.5169 - accuracy: 0.7802\n",
            "Epoch 4/10\n",
            "40/40 [==============================] - 22s 548ms/step - loss: 0.4758 - accuracy: 0.8014\n",
            "Epoch 5/10\n",
            "40/40 [==============================] - 22s 536ms/step - loss: 0.4350 - accuracy: 0.8226\n",
            "Epoch 6/10\n",
            "40/40 [==============================] - 23s 565ms/step - loss: 0.4437 - accuracy: 0.8116\n",
            "Epoch 7/10\n",
            "40/40 [==============================] - 22s 554ms/step - loss: 0.4372 - accuracy: 0.8155\n",
            "Epoch 8/10\n",
            "40/40 [==============================] - 22s 547ms/step - loss: 0.4051 - accuracy: 0.8297\n",
            "Epoch 9/10\n",
            "40/40 [==============================] - 23s 568ms/step - loss: 0.3850 - accuracy: 0.8297\n",
            "Epoch 10/10\n",
            "40/40 [==============================] - 21s 535ms/step - loss: 0.4114 - accuracy: 0.8242\n",
            "6/6 [==============================] - 58s 11s/step\n",
            "              precision    recall  f1-score   support\n",
            "\n",
            "      benign       0.46      0.49      0.48        80\n",
            "   malignant       0.37      0.48      0.42        60\n",
            "      normal       0.57      0.13      0.22        30\n",
            "\n",
            "    accuracy                           0.42       170\n",
            "   macro avg       0.47      0.37      0.37       170\n",
            "weighted avg       0.45      0.42      0.41       170\n",
            "\n",
            "[[39 39  2]\n",
            " [30 29  1]\n",
            " [15 11  4]]\n"
          ]
        },
        {
          "output_type": "stream",
          "name": "stderr",
          "text": [
            "<ipython-input-4-4999f49a5398>:86: UserWarning: `Model.evaluate_generator` is deprecated and will be removed in a future version. Please use `Model.evaluate`, which supports generators.\n",
            "  test_loss, test_acc = model.evaluate_generator(test_generator)\n"
          ]
        },
        {
          "output_type": "stream",
          "name": "stdout",
          "text": [
            "Test accuracy: 0.729411780834198\n"
          ]
        }
      ]
    },
    {
      "cell_type": "code",
      "source": [
        "import pickle\n",
        "pickle.dump(model, open('model.pkl', 'wb'))"
      ],
      "metadata": {
        "id": "xyeJE5-u4zQW"
      },
      "execution_count": 5,
      "outputs": []
    },
    {
      "cell_type": "code",
      "source": [],
      "metadata": {
        "id": "5c-qtTPu6w9W"
      },
      "execution_count": null,
      "outputs": []
    }
  ]
}